{
 "cells": [
  {
   "cell_type": "code",
   "execution_count": 2,
   "metadata": {},
   "outputs": [],
   "source": [
    "#import arcpy                # the arcpy for your local Pro\n",
    "import pandas\n",
    "from arcgis.gis import GIS  # the submodule for displaying maps in jupyter\n",
    "import arcgis               # the python api module (online processing)\n",
    "from urllib import request  # module for requesting data from url\n",
    "import datetime             # gets today's date and past dates\n",
    "#import json\n",
    "from shapely.geometry import Point # needed to create shapefiles\n",
    "import geopandas\n",
    "\n",
    "import shutil                # needed to zip shapefiles"
   ]
  },
  {
   "cell_type": "code",
   "execution_count": 8,
   "metadata": {},
   "outputs": [
    {
     "name": "stdout",
     "output_type": "stream",
     "text": [
      "logged in as jill.kelly_yalemaps\n"
     ]
    }
   ],
   "source": [
    "gis = GIS('http://yalemaps.maps.arcgis.com', 'jill.kelly_yalemaps', 'password')\n",
    "print(\"logged in as \" + str(gis.properties.user.username))"
   ]
  },
  {
   "cell_type": "code",
   "execution_count": 4,
   "metadata": {},
   "outputs": [],
   "source": [
    "NN = 2 #number of days past to consider (present day is omitted because it may not exist yet)"
   ]
  },
  {
   "cell_type": "code",
   "execution_count": 5,
   "metadata": {},
   "outputs": [
    {
     "data": {
      "text/plain": [
       "['04-11-2020', '04-10-2020']"
      ]
     },
     "execution_count": 5,
     "metadata": {},
     "output_type": "execute_result"
    }
   ],
   "source": [
    "datelist = []\n",
    "dashdatelist = []\n",
    "for N in range(int(NN)):\n",
    "    date = datetime.datetime.now() - datetime.timedelta(days=N)\n",
    "    \n",
    "    year = date.year\n",
    "    month = date.month\n",
    "    day = date.day\n",
    "    if day < 10: day_2digit = \"0\" + str(day)\n",
    "    else: day_2digit = str(day)\n",
    "    if month < 10: month_2digit = \"0\" + str(month)\n",
    "    else: month_2digit = str(month)    \n",
    "    dashdate = month_2digit + \"-\" + day_2digit + \"-\" + str(year)\n",
    "    dashdatelist.append(dashdate)\n",
    "    \n",
    "dashdatelist"
   ]
  },
  {
   "cell_type": "code",
   "execution_count": 99,
   "metadata": {},
   "outputs": [],
   "source": [
    "def fetch(DASHDATE):\n",
    "    underscoredate = DASHDATE.replace(\"-\", \"_\")\n",
    "    url = r\"https://raw.githubusercontent.com/CSSEGISandData/COVID-19/master/csse_covid_19_data/csse_covid_19_daily_reports/\" + DASHDATE +\".csv\"\n",
    "    filename = \"TEMP_\" + DASHDATE + \".txt\"\n",
    "    response = request.urlretrieve(url, filename)\n",
    "    return()"
   ]
  },
  {
   "cell_type": "code",
   "execution_count": 100,
   "metadata": {},
   "outputs": [],
   "source": [
    "for dashdate in dashdatelist[1:]: fetch(dashdate)"
   ]
  },
  {
   "cell_type": "markdown",
   "metadata": {},
   "source": [
    "This block reads one csv, converts to shapefile and zips for upload."
   ]
  },
  {
   "cell_type": "code",
   "execution_count": 51,
   "metadata": {},
   "outputs": [
    {
     "data": {
      "text/plain": [
       "'/Users/kit/Downloads/shps_zipped.zip'"
      ]
     },
     "execution_count": 51,
     "metadata": {},
     "output_type": "execute_result"
    }
   ],
   "source": [
    "df = pandas.read_csv('TEMP_04-09-2020.txt')\n",
    "df.columns = ['FIPS','Admin2','Province_State','Country_Region','Last_Update','Lat','Long','Confirmed','Deaths','Recovered','Active','Combined_Key']\n",
    "# in order to later have join key that matches:\n",
    "df['Combined_Key'] = df['Combined_Key'].str[:-4]\n",
    "\n",
    "# non-ArcGIS python API means of creating shapefile from csv\n",
    "geometry = [Point(xy) for xy in zip(df.Long, df.Lat)]\n",
    "prj_file = geopandas.datasets.get_path('naturalearth_cities').replace(\".shp\",\".prj\")\n",
    "prj = [l.strip() for l in open(prj_file,'r')][0]\n",
    "gdf = geopandas.GeoDataFrame(df, geometry=geometry)\n",
    "gdf.to_file(filename='/Users/kit/shps/TEMP_04092020.shp', driver='ESRI Shapefile', crs_wkt=prj)\n",
    "\n",
    "#zip it for upload\n",
    "shutil.make_archive(\"shps_zipped\", 'zip', '/Users/kit/shps')\n"
   ]
  },
  {
   "cell_type": "raw",
   "metadata": {},
   "source": [
    "upload to AGOL"
   ]
  },
  {
   "cell_type": "code",
   "execution_count": 106,
   "metadata": {},
   "outputs": [
    {
     "ename": "RuntimeError",
     "evalue": "Specify type in item_properties",
     "output_type": "error",
     "traceback": [
      "\u001b[0;31m---------------------------------------------------------------------------\u001b[0m",
      "\u001b[0;31mRuntimeError\u001b[0m                              Traceback (most recent call last)",
      "\u001b[0;32m<ipython-input-106-faec748c96a1>\u001b[0m in \u001b[0;36m<module>\u001b[0;34m\u001b[0m\n\u001b[1;32m      1\u001b[0m \u001b[0mdata\u001b[0m \u001b[0;34m=\u001b[0m \u001b[0;34m'/Users/kit/shps/shps_zipped.zip'\u001b[0m\u001b[0;34m\u001b[0m\u001b[0;34m\u001b[0m\u001b[0m\n\u001b[0;32m----> 2\u001b[0;31m \u001b[0mshpfile\u001b[0m \u001b[0;34m=\u001b[0m \u001b[0mgis\u001b[0m\u001b[0;34m.\u001b[0m\u001b[0mcontent\u001b[0m\u001b[0;34m.\u001b[0m\u001b[0madd\u001b[0m\u001b[0;34m(\u001b[0m\u001b[0;34m{\u001b[0m\u001b[0;34m}\u001b[0m\u001b[0;34m,\u001b[0m \u001b[0mdata\u001b[0m\u001b[0;34m)\u001b[0m\u001b[0;34m\u001b[0m\u001b[0;34m\u001b[0m\u001b[0m\n\u001b[0m\u001b[1;32m      3\u001b[0m \u001b[0mpublished_service\u001b[0m \u001b[0;34m=\u001b[0m \u001b[0mshpfile\u001b[0m\u001b[0;34m.\u001b[0m\u001b[0mpublish\u001b[0m\u001b[0;34m(\u001b[0m\u001b[0;34m)\u001b[0m\u001b[0;34m\u001b[0m\u001b[0;34m\u001b[0m\u001b[0m\n",
      "\u001b[0;32m~/opt/anaconda3/lib/python3.7/site-packages/arcgis/gis/__init__.py\u001b[0m in \u001b[0;36madd\u001b[0;34m(self, item_properties, data, thumbnail, metadata, owner, folder)\u001b[0m\n\u001b[1;32m   3150\u001b[0m                     \u001b[0mitem_properties\u001b[0m\u001b[0;34m[\u001b[0m\u001b[0;34m'type'\u001b[0m\u001b[0;34m]\u001b[0m \u001b[0;34m=\u001b[0m \u001b[0mfiletype\u001b[0m\u001b[0;34m\u001b[0m\u001b[0;34m\u001b[0m\u001b[0m\n\u001b[1;32m   3151\u001b[0m                 \u001b[0;32melse\u001b[0m\u001b[0;34m:\u001b[0m\u001b[0;34m\u001b[0m\u001b[0;34m\u001b[0m\u001b[0m\n\u001b[0;32m-> 3152\u001b[0;31m                     \u001b[0;32mraise\u001b[0m \u001b[0mRuntimeError\u001b[0m\u001b[0;34m(\u001b[0m\u001b[0;34m'Specify type in item_properties'\u001b[0m\u001b[0;34m)\u001b[0m\u001b[0;34m\u001b[0m\u001b[0;34m\u001b[0m\u001b[0m\n\u001b[0m\u001b[1;32m   3153\u001b[0m             \u001b[0;32mif\u001b[0m \u001b[0;32mnot\u001b[0m \u001b[0;34m'title'\u001b[0m \u001b[0;32min\u001b[0m \u001b[0mitem_properties\u001b[0m\u001b[0;34m:\u001b[0m\u001b[0;34m\u001b[0m\u001b[0;34m\u001b[0m\u001b[0m\n\u001b[1;32m   3154\u001b[0m                 \u001b[0mitem_properties\u001b[0m\u001b[0;34m[\u001b[0m\u001b[0;34m'title'\u001b[0m\u001b[0;34m]\u001b[0m \u001b[0;34m=\u001b[0m \u001b[0mtitle\u001b[0m\u001b[0;34m\u001b[0m\u001b[0;34m\u001b[0m\u001b[0m\n",
      "\u001b[0;31mRuntimeError\u001b[0m: Specify type in item_properties"
     ]
    }
   ],
   "source": [
    "data = '/Users/kit/shps/shps_zipped.zip'\n",
    "shpfile = gis.content.add({}, data)\n",
    "published_service = shpfile.publish()"
   ]
  },
  {
   "cell_type": "markdown",
   "metadata": {},
   "source": [
    "fetch US counties feature layer"
   ]
  },
  {
   "cell_type": "code",
   "execution_count": 72,
   "metadata": {},
   "outputs": [
    {
     "data": {
      "text/html": [
       "<div class=\"item_container\" style=\"height: auto; overflow: hidden; border: 1px solid #cfcfcf; border-radius: 2px; background: #f6fafa; line-height: 1.21429em; padding: 10px;\">\n",
       "                    <div class=\"item_left\" style=\"width: 210px; float: left;\">\n",
       "                       <a href='http://yalemaps.maps.arcgis.com/home/item.html?id=d8d3db28fe72445aa0449cfbcd6d0da3' target='_blank'>\n",
       "                        <img src='data:image/png;base64,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' width='200' height='133' class=\"itemThumbnail\">\n",
       "                       </a>\n",
       "                    </div>\n",
       "\n",
       "                    <div class=\"item_right\"     style=\"float: none; width: auto; overflow: hidden;\">\n",
       "                        <a href='http://yalemaps.maps.arcgis.com/home/item.html?id=d8d3db28fe72445aa0449cfbcd6d0da3' target='_blank'><b>US Counties and Equivalent Governmental Units</b>\n",
       "                        </a>\n",
       "                        <br/>US Counties and Equivalent Governmental Units<img src='http://yalemaps.maps.arcgis.com/home/js/jsapi/esri/css/images/item_type_icons/featureshosted16.png' style=\"vertical-align:middle;\">Feature Layer Collection by USFSMapsandApps\n",
       "                        <br/>Last Modified: May 03, 2019\n",
       "                        <br/>0 comments, 906,110 views\n",
       "                    </div>\n",
       "                </div>\n",
       "                "
      ],
      "text/plain": [
       "<Item title:\"US Counties and Equivalent Governmental Units\" type:Feature Layer Collection owner:USFSMapsandApps>"
      ]
     },
     "execution_count": 72,
     "metadata": {},
     "output_type": "execute_result"
    }
   ],
   "source": [
    "known_item = gis.content.get(\"d8d3db28fe72445aa0449cfbcd6d0da3\")\n",
    "known_item"
   ]
  },
  {
   "cell_type": "markdown",
   "metadata": {},
   "source": [
    "Join the published points to the counties spatially"
   ]
  },
  {
   "cell_type": "code",
   "execution_count": 91,
   "metadata": {},
   "outputs": [
    {
     "data": {
      "text/html": [
       "<div class=\"item_container\" style=\"height: auto; overflow: hidden; border: 1px solid #cfcfcf; border-radius: 2px; background: #f6fafa; line-height: 1.21429em; padding: 10px;\">\n",
       "                    <div class=\"item_left\" style=\"width: 210px; float: left;\">\n",
       "                       <a href='http://yalemaps.maps.arcgis.com/home/item.html?id=cacb47c4da6243da96163cbd5105a3ad' target='_blank'>\n",
       "                        <img src='http://static.arcgis.com/images/desktopapp.png' class=\"itemThumbnail\">\n",
       "                       </a>\n",
       "                    </div>\n",
       "\n",
       "                    <div class=\"item_right\"     style=\"float: none; width: auto; overflow: hidden;\">\n",
       "                        <a href='http://yalemaps.maps.arcgis.com/home/item.html?id=cacb47c4da6243da96163cbd5105a3ad' target='_blank'><b>joined_covid_counties</b>\n",
       "                        </a>\n",
       "                        <br/><img src='http://yalemaps.maps.arcgis.com/home/js/jsapi/esri/css/images/item_type_icons/featureshosted16.png' style=\"vertical-align:middle;\">Feature Layer Collection by jill.kelly_yalemaps\n",
       "                        <br/>Last Modified: April 11, 2020\n",
       "                        <br/>0 comments, 0 views\n",
       "                    </div>\n",
       "                </div>\n",
       "                "
      ],
      "text/plain": [
       "<Item title:\"joined_covid_counties\" type:Feature Layer Collection owner:jill.kelly_yalemaps>"
      ]
     },
     "execution_count": 91,
     "metadata": {},
     "output_type": "execute_result"
    }
   ],
   "source": [
    "f1 = known_item.layers[0]\n",
    "#sdf = pandas.DataFrame.spatial.from_layer(f1)\n",
    "f2 = published_service.layers[0]\n",
    "\n",
    "arcgis.features.analysis.join_features(f1, f2, spatial_relationship='intersects', spatial_relationship_distance=None, spatial_relationship_distance_units=None, attribute_relationship=None, join_operation='JoinOneToOne', summary_fields=None, output_name='joined_covid_counties', context=None, gis=gis)"
   ]
  },
  {
   "cell_type": "markdown",
   "metadata": {},
   "source": [
    "display"
   ]
  },
  {
   "cell_type": "code",
   "execution_count": 95,
   "metadata": {},
   "outputs": [
    {
     "data": {
      "application/vnd.jupyter.widget-view+json": {
       "model_id": "e95d39cfaadb49a1b0a36d3e48c35947",
       "version_major": 2,
       "version_minor": 0
      },
      "text/plain": [
       "MapView(layout=Layout(height='400px', width='100%'), zoom=4.0)"
      ]
     },
     "metadata": {},
     "output_type": "display_data"
    },
    {
     "data": {
      "text/html": [
       "<div class=\"map-static-img-preview-cf2b459a-974d-4430-a2b0-2b167a006f0e\"><img src=\"\"></img></div>"
      ],
      "text/plain": [
       "<IPython.core.display.HTML object>"
      ]
     },
     "metadata": {},
     "output_type": "display_data"
    }
   ],
   "source": [
    "search_result = gis.content.search(query=\"title:joined_covid_counties\", item_type=\"Feature Layer\")\n",
    "f3 = search_result[0].layers[0]\n",
    "map1 = gis.map('USA', zoomlevel=4)\n",
    "map1.basemap = 'topo'\n",
    "map1.add_layer(f3, {\"renderer\":\"ClassedColorRenderer\", \"field_name\": \"confirmed\"})\n",
    "#map1.add_layer(known_item)\n",
    "map1"
   ]
  },
  {
   "cell_type": "code",
   "execution_count": 93,
   "metadata": {},
   "outputs": [
    {
     "data": {
      "text/plain": [
       "<FeatureLayer url:\"https://services1.arcgis.com/7uJv7I3kgh2y7Pe0/arcgis/rest/services/joined_covid_counties/FeatureServer/0\">"
      ]
     },
     "execution_count": 93,
     "metadata": {},
     "output_type": "execute_result"
    }
   ],
   "source": [
    "f3"
   ]
  },
  {
   "cell_type": "markdown",
   "metadata": {},
   "source": [
    "Multiple dates"
   ]
  },
  {
   "cell_type": "code",
   "execution_count": 103,
   "metadata": {},
   "outputs": [],
   "source": [
    "def flow(DASHDATE):\n",
    "    df = pandas.read_csv('TEMP_' + DASHDATE + '.txt')\n",
    "    df.columns = ['FIPS','Admin2','Province_State','Country_Region','Last_Update','Lat','Long','Confirmed','Deaths','Recovered','Active','Combined_Key']\n",
    "    # in order to later have join key that matches:\n",
    "    #df['Combined_Key'] = df['Combined_Key'].str[:-4]\n",
    "\n",
    "    # non-ArcGIS python API means of creating shapefile from csv\n",
    "    geometry = [Point(xy) for xy in zip(df.Long, df.Lat)]\n",
    "    prj_file = geopandas.datasets.get_path('naturalearth_cities').replace(\".shp\",\".prj\")\n",
    "    prj = [l.strip() for l in open(prj_file,'r')][0]\n",
    "    gdf = geopandas.GeoDataFrame(df, crs=crs, geometry=geometry)\n",
    "    gdf.to_file(filename='/Users/kit/shps/TEMP.shp', driver='ESRI Shapefile', crs_wkt=prj)\n",
    "\n",
    "    #zip it for upload\n",
    "    shutil.make_archive(\"shps_zipped_\" + DASHDATE, 'zip', '/Users/kit/shps')\n",
    "    \n",
    "    data = '/Users/kit/shps/shps_zipped_ + DASHDATE.zip'\n",
    "\n",
    "    shpfile = gis.content.add({}, data)\n",
    "    published_service = shpfile.publish()\n",
    "    \n",
    "    f1 = known_item.layers[0]\n",
    "\n",
    "    f2 = published_service.layers[0]\n",
    "\n",
    "    arcgis.features.analysis.join_features(f1, f2, spatial_relationship='intersects', spatial_relationship_distance=None, spatial_relationship_distance_units=None, attribute_relationship=None, join_operation='JoinOneToOne', summary_fields=None, output_name='joined_'+DASHDATE, context=None, gis=gis)\n",
    "\n",
    "    return()"
   ]
  },
  {
   "cell_type": "code",
   "execution_count": 104,
   "metadata": {},
   "outputs": [
    {
     "ename": "RuntimeError",
     "evalue": "Specify type in item_properties",
     "output_type": "error",
     "traceback": [
      "\u001b[0;31m---------------------------------------------------------------------------\u001b[0m",
      "\u001b[0;31mRuntimeError\u001b[0m                              Traceback (most recent call last)",
      "\u001b[0;32m<ipython-input-104-020531d08236>\u001b[0m in \u001b[0;36m<module>\u001b[0;34m\u001b[0m\n\u001b[0;32m----> 1\u001b[0;31m \u001b[0;32mfor\u001b[0m \u001b[0mdashdate\u001b[0m \u001b[0;32min\u001b[0m \u001b[0mdashdatelist\u001b[0m\u001b[0;34m[\u001b[0m\u001b[0;36m1\u001b[0m\u001b[0;34m:\u001b[0m\u001b[0;34m]\u001b[0m\u001b[0;34m:\u001b[0m \u001b[0mflow\u001b[0m\u001b[0;34m(\u001b[0m\u001b[0mdashdate\u001b[0m\u001b[0;34m)\u001b[0m\u001b[0;34m\u001b[0m\u001b[0;34m\u001b[0m\u001b[0m\n\u001b[0m",
      "\u001b[0;32m<ipython-input-103-afff616f3fa0>\u001b[0m in \u001b[0;36mflow\u001b[0;34m(DASHDATE)\u001b[0m\n\u001b[1;32m     17\u001b[0m     \u001b[0mdata\u001b[0m \u001b[0;34m=\u001b[0m \u001b[0;34m'/Users/kit/shps/shps_zipped_ + DASHDATE.zip'\u001b[0m\u001b[0;34m\u001b[0m\u001b[0;34m\u001b[0m\u001b[0m\n\u001b[1;32m     18\u001b[0m \u001b[0;34m\u001b[0m\u001b[0m\n\u001b[0;32m---> 19\u001b[0;31m     \u001b[0mshpfile\u001b[0m \u001b[0;34m=\u001b[0m \u001b[0mgis\u001b[0m\u001b[0;34m.\u001b[0m\u001b[0mcontent\u001b[0m\u001b[0;34m.\u001b[0m\u001b[0madd\u001b[0m\u001b[0;34m(\u001b[0m\u001b[0;34m{\u001b[0m\u001b[0;34m}\u001b[0m\u001b[0;34m,\u001b[0m \u001b[0mdata\u001b[0m\u001b[0;34m)\u001b[0m\u001b[0;34m\u001b[0m\u001b[0;34m\u001b[0m\u001b[0m\n\u001b[0m\u001b[1;32m     20\u001b[0m     \u001b[0mpublished_service\u001b[0m \u001b[0;34m=\u001b[0m \u001b[0mshpfile\u001b[0m\u001b[0;34m.\u001b[0m\u001b[0mpublish\u001b[0m\u001b[0;34m(\u001b[0m\u001b[0;34m)\u001b[0m\u001b[0;34m\u001b[0m\u001b[0;34m\u001b[0m\u001b[0m\n\u001b[1;32m     21\u001b[0m \u001b[0;34m\u001b[0m\u001b[0m\n",
      "\u001b[0;32m~/opt/anaconda3/lib/python3.7/site-packages/arcgis/gis/__init__.py\u001b[0m in \u001b[0;36madd\u001b[0;34m(self, item_properties, data, thumbnail, metadata, owner, folder)\u001b[0m\n\u001b[1;32m   3150\u001b[0m                     \u001b[0mitem_properties\u001b[0m\u001b[0;34m[\u001b[0m\u001b[0;34m'type'\u001b[0m\u001b[0;34m]\u001b[0m \u001b[0;34m=\u001b[0m \u001b[0mfiletype\u001b[0m\u001b[0;34m\u001b[0m\u001b[0;34m\u001b[0m\u001b[0m\n\u001b[1;32m   3151\u001b[0m                 \u001b[0;32melse\u001b[0m\u001b[0;34m:\u001b[0m\u001b[0;34m\u001b[0m\u001b[0;34m\u001b[0m\u001b[0m\n\u001b[0;32m-> 3152\u001b[0;31m                     \u001b[0;32mraise\u001b[0m \u001b[0mRuntimeError\u001b[0m\u001b[0;34m(\u001b[0m\u001b[0;34m'Specify type in item_properties'\u001b[0m\u001b[0;34m)\u001b[0m\u001b[0;34m\u001b[0m\u001b[0;34m\u001b[0m\u001b[0m\n\u001b[0m\u001b[1;32m   3153\u001b[0m             \u001b[0;32mif\u001b[0m \u001b[0;32mnot\u001b[0m \u001b[0;34m'title'\u001b[0m \u001b[0;32min\u001b[0m \u001b[0mitem_properties\u001b[0m\u001b[0;34m:\u001b[0m\u001b[0;34m\u001b[0m\u001b[0;34m\u001b[0m\u001b[0m\n\u001b[1;32m   3154\u001b[0m                 \u001b[0mitem_properties\u001b[0m\u001b[0;34m[\u001b[0m\u001b[0;34m'title'\u001b[0m\u001b[0;34m]\u001b[0m \u001b[0;34m=\u001b[0m \u001b[0mtitle\u001b[0m\u001b[0;34m\u001b[0m\u001b[0;34m\u001b[0m\u001b[0m\n",
      "\u001b[0;31mRuntimeError\u001b[0m: Specify type in item_properties"
     ]
    }
   ],
   "source": [
    "for dashdate in dashdatelist[1:]: flow(dashdate)"
   ]
  },
  {
   "cell_type": "code",
   "execution_count": null,
   "metadata": {},
   "outputs": [],
   "source": []
  },
  {
   "cell_type": "code",
   "execution_count": null,
   "metadata": {},
   "outputs": [],
   "source": []
  }
 ],
 "metadata": {
  "kernelspec": {
   "display_name": "Python 3",
   "language": "python",
   "name": "python3"
  },
  "language_info": {
   "codemirror_mode": {
    "name": "ipython",
    "version": 3
   },
   "file_extension": ".py",
   "mimetype": "text/x-python",
   "name": "python",
   "nbconvert_exporter": "python",
   "pygments_lexer": "ipython3",
   "version": "3.7.4"
  }
 },
 "nbformat": 4,
 "nbformat_minor": 2
}
